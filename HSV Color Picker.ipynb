{
 "cells": [
  {
   "cell_type": "code",
   "execution_count": null,
   "id": "590b48d5",
   "metadata": {},
   "outputs": [],
   "source": [
    "import cv2\n",
    "import numpy as np\n",
    "\n",
    "\n",
    "def nothing(x):\n",
    "    pass\n",
    "\n",
    "# Trackbar\n",
    "cv2.namedWindow(\"frame\")\n",
    "cv2.createTrackbar(\"H\", \"frame\", 0, 179, nothing)\n",
    "cv2.createTrackbar(\"S\", \"frame\", 255, 255, nothing)\n",
    "cv2.createTrackbar(\"V\", \"frame\", 255, 255, nothing)\n",
    "\n",
    "img_hsv = np.zeros((250, 500, 3), np.uint8)\n",
    "\n",
    "while True:\n",
    "    h = cv2.getTrackbarPos(\"H\", \"frame\")\n",
    "    s = cv2.getTrackbarPos(\"S\", \"frame\")\n",
    "    v = cv2.getTrackbarPos(\"V\", \"frame\")\n",
    "\n",
    "    img_hsv[:] = (h, s, v)\n",
    "    img_bgr = cv2.cvtColor(img_hsv, cv2.COLOR_HSV2BGR)\n",
    "\n",
    "    cv2.imshow(\"frame\", img_bgr)\n",
    "    key = cv2.waitKey(1)\n",
    "    if key == 27:\n",
    "        break\n",
    "\n",
    "\n",
    "cv2.destroyAllWindows()"
   ]
  },
  {
   "cell_type": "code",
   "execution_count": null,
   "id": "802da043",
   "metadata": {},
   "outputs": [],
   "source": []
  }
 ],
 "metadata": {
  "kernelspec": {
   "display_name": "Python 3 (ipykernel)",
   "language": "python",
   "name": "python3"
  },
  "language_info": {
   "codemirror_mode": {
    "name": "ipython",
    "version": 3
   },
   "file_extension": ".py",
   "mimetype": "text/x-python",
   "name": "python",
   "nbconvert_exporter": "python",
   "pygments_lexer": "ipython3",
   "version": "3.8.12"
  }
 },
 "nbformat": 4,
 "nbformat_minor": 5
}
